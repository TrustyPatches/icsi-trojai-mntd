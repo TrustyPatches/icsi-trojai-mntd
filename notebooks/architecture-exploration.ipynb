{
 "cells": [
  {
   "cell_type": "code",
   "execution_count": 6,
   "id": "73a8638c",
   "metadata": {},
   "outputs": [],
   "source": [
    "import os \n",
    "import sys\n",
    "import torch\n",
    "import torchinfo\n",
    "import numpy as np\n",
    "import pandas as pd\n",
    "import transformers\n",
    "import ujson as json\n",
    "from pprint import pprint\n",
    "\n",
    "import seaborn as sns\n",
    "import matplotlib.pyplot as plt"
   ]
  },
  {
   "cell_type": "code",
   "execution_count": 7,
   "id": "c24612e4",
   "metadata": {},
   "outputs": [],
   "source": [
    "sys.path.insert(0, '..')\n",
    "from mntdmod import utils\n",
    "from mntdmod import utilsnlp\n",
    "\n",
    "r = 7\n",
    "split = 'train'"
   ]
  },
  {
   "cell_type": "code",
   "execution_count": 8,
   "id": "00b6f988",
   "metadata": {},
   "outputs": [],
   "source": [
    "def get_model_and_input(i): \n",
    "    model, config, clean_fns, poisoned_fns, tokenizer, max_input_length = utilsnlp.load_model_data(i)\n",
    "    words, labels = utilsnlp.load_input_file(clean_fns[0])\n",
    "    input_ids, attention_mask, labels_tensor = utilsnlp.tokenize_input(tokenizer, words, labels, max_input_length)\n",
    "    return model, input_ids"
   ]
  },
  {
   "cell_type": "code",
   "execution_count": 9,
   "id": "5cc748e2",
   "metadata": {},
   "outputs": [
    {
     "data": {
      "text/plain": [
       "=========================================================================================================\n",
       "Layer (type:depth-idx)                                  Output Shape              Param #\n",
       "=========================================================================================================\n",
       "NerLinearModel                                          --                        --\n",
       "├─BertModel: 1-1                                        [1, 34, 768]              --\n",
       "│    └─BertEmbeddings: 2-1                              [1, 34, 768]              --\n",
       "│    │    └─Embedding: 3-1                              [1, 34, 768]              23,440,896\n",
       "│    │    └─Embedding: 3-2                              [1, 34, 768]              1,536\n",
       "│    │    └─Embedding: 3-3                              [1, 34, 768]              393,216\n",
       "│    │    └─LayerNorm: 3-4                              [1, 34, 768]              1,536\n",
       "│    │    └─Dropout: 3-5                                [1, 34, 768]              --\n",
       "│    └─BertEncoder: 2-2                                 [1, 34, 768]              --\n",
       "├─Dropout: 1-2                                          [1, 34, 768]              --\n",
       "├─Linear: 1-3                                           [1, 34, 13]               9,997\n",
       "=========================================================================================================\n",
       "Total params: 23,847,181\n",
       "Trainable params: 23,847,181\n",
       "Non-trainable params: 0\n",
       "Total mult-adds (M): 108.90\n",
       "=========================================================================================================\n",
       "Input size (MB): 0.00\n",
       "Forward/backward pass size (MB): 28.41\n",
       "Params size (MB): 95.39\n",
       "Estimated Total Size (MB): 123.80\n",
       "========================================================================================================="
      ]
     },
     "execution_count": 9,
     "metadata": {},
     "output_type": "execute_result"
    }
   ],
   "source": [
    "# BERT Model\n",
    "model, inputs = get_model_and_input(1)\n",
    "torchinfo.summary(model,  input_data=inputs)"
   ]
  },
  {
   "cell_type": "code",
   "execution_count": 10,
   "id": "e284ba15",
   "metadata": {},
   "outputs": [
    {
     "data": {
      "text/plain": [
       "'bert'"
      ]
     },
     "execution_count": 10,
     "metadata": {},
     "output_type": "execute_result"
    }
   ],
   "source": [
    "model.transformer.embeddings.word_embeddings.embedding_dim\n",
    "model.transformer.config.model_type\n"
   ]
  },
  {
   "cell_type": "code",
   "execution_count": 11,
   "id": "53f9d03b",
   "metadata": {},
   "outputs": [
    {
     "data": {
      "text/plain": [
       "===================================================================================================================\n",
       "Layer (type:depth-idx)                                            Output Shape              Param #\n",
       "===================================================================================================================\n",
       "NerLinearModel                                                    --                        --\n",
       "├─MobileBertModel: 1-1                                            [1, 59, 512]              --\n",
       "│    └─MobileBertEmbeddings: 2-1                                  [1, 59, 512]              --\n",
       "│    │    └─Embedding: 3-1                                        [1, 59, 128]              3,906,816\n",
       "│    │    └─Linear: 3-2                                           [1, 59, 512]              197,120\n",
       "│    │    └─Embedding: 3-3                                        [1, 59, 512]              262,144\n",
       "│    │    └─Embedding: 3-4                                        [1, 59, 512]              1,024\n",
       "│    │    └─NoNorm: 3-5                                           [1, 59, 512]              1,024\n",
       "│    │    └─Dropout: 3-6                                          [1, 59, 512]              --\n",
       "│    └─MobileBertEncoder: 2-2                                     [1, 59, 512]              --\n",
       "├─Dropout: 1-2                                                    [1, 59, 512]              --\n",
       "├─Linear: 1-3                                                     [1, 59, 9]                4,617\n",
       "===================================================================================================================\n",
       "Total params: 4,372,745\n",
       "Trainable params: 4,372,745\n",
       "Non-trainable params: 0\n",
       "Total mult-adds (M): 24.59\n",
       "===================================================================================================================\n",
       "Input size (MB): 0.00\n",
       "Forward/backward pass size (MB): 60.48\n",
       "Params size (MB): 17.49\n",
       "Estimated Total Size (MB): 77.97\n",
       "==================================================================================================================="
      ]
     },
     "execution_count": 11,
     "metadata": {},
     "output_type": "execute_result"
    }
   ],
   "source": [
    "# MobileBERT Model\n",
    "model, inputs = get_model_and_input(0)\n",
    "torchinfo.summary(model,  input_data=inputs)"
   ]
  },
  {
   "cell_type": "code",
   "execution_count": 12,
   "id": "69cb8eb2",
   "metadata": {},
   "outputs": [
    {
     "data": {
      "text/plain": [
       "'mobilebert'"
      ]
     },
     "execution_count": 12,
     "metadata": {},
     "output_type": "execute_result"
    }
   ],
   "source": [
    "model.transformer.embeddings.word_embeddings.embedding_dim\n",
    "model.transformer.config.model_type"
   ]
  },
  {
   "cell_type": "code",
   "execution_count": 13,
   "id": "fb9b089c",
   "metadata": {},
   "outputs": [
    {
     "data": {
      "text/plain": [
       "==============================================================================================================\n",
       "Layer (type:depth-idx)                                       Output Shape              Param #\n",
       "==============================================================================================================\n",
       "NerLinearModel                                               --                        --\n",
       "├─RobertaModel: 1-1                                          [1, 39, 768]              --\n",
       "│    └─RobertaEmbeddings: 2-1                                [1, 39, 768]              --\n",
       "│    │    └─Embedding: 3-1                                   [1, 39, 768]              38,603,520\n",
       "│    │    └─Embedding: 3-2                                   [1, 39, 768]              768\n",
       "│    │    └─Embedding: 3-3                                   [1, 39, 768]              394,752\n",
       "│    │    └─LayerNorm: 3-4                                   [1, 39, 768]              1,536\n",
       "│    │    └─Dropout: 3-5                                     [1, 39, 768]              --\n",
       "│    └─RobertaEncoder: 2-2                                   [1, 39, 768]              --\n",
       "├─Dropout: 1-2                                               [1, 39, 768]              --\n",
       "├─Linear: 1-3                                                [1, 39, 9]                6,921\n",
       "==============================================================================================================\n",
       "Total params: 39,007,497\n",
       "Trainable params: 39,007,497\n",
       "Non-trainable params: 0\n",
       "Total mult-adds (M): 124.06\n",
       "==============================================================================================================\n",
       "Input size (MB): 0.00\n",
       "Forward/backward pass size (MB): 32.59\n",
       "Params size (MB): 156.03\n",
       "Estimated Total Size (MB): 188.62\n",
       "=============================================================================================================="
      ]
     },
     "execution_count": 13,
     "metadata": {},
     "output_type": "execute_result"
    }
   ],
   "source": [
    "# RoBERTa Model\n",
    "model, inputs = get_model_and_input(2)\n",
    "torchinfo.summary(model,  input_data=inputs)"
   ]
  },
  {
   "cell_type": "code",
   "execution_count": 14,
   "id": "8496d85c",
   "metadata": {},
   "outputs": [
    {
     "data": {
      "text/plain": [
       "'roberta'"
      ]
     },
     "execution_count": 14,
     "metadata": {},
     "output_type": "execute_result"
    }
   ],
   "source": [
    "model.transformer.embeddings.word_embeddings.embedding_dim\n",
    "model.transformer.config.model_type"
   ]
  },
  {
   "cell_type": "code",
   "execution_count": 15,
   "id": "aa474dfa",
   "metadata": {},
   "outputs": [
    {
     "data": {
      "text/plain": [
       "=========================================================================================================\n",
       "Layer (type:depth-idx)                                  Output Shape              Param #\n",
       "=========================================================================================================\n",
       "NerLinearModel                                          --                        --\n",
       "├─DistilBertModel: 1-1                                  [1, 44, 768]              --\n",
       "│    └─Embeddings: 2-1                                  [1, 44, 768]              --\n",
       "│    │    └─Embedding: 3-1                              [1, 44, 768]              22,268,928\n",
       "│    │    └─Embedding: 3-2                              [1, 44, 768]              393,216\n",
       "│    │    └─LayerNorm: 3-3                              [1, 44, 768]              1,536\n",
       "│    │    └─Dropout: 3-4                                [1, 44, 768]              --\n",
       "│    └─Transformer: 2-2                                 [1, 44, 768]              --\n",
       "├─Dropout: 1-2                                          [1, 44, 768]              --\n",
       "├─Linear: 1-3                                           [1, 44, 9]                6,921\n",
       "=========================================================================================================\n",
       "Total params: 22,670,601\n",
       "Trainable params: 22,670,601\n",
       "Non-trainable params: 0\n",
       "Total mult-adds (M): 65.20\n",
       "=========================================================================================================\n",
       "Input size (MB): 0.00\n",
       "Forward/backward pass size (MB): 18.66\n",
       "Params size (MB): 90.68\n",
       "Estimated Total Size (MB): 109.34\n",
       "========================================================================================================="
      ]
     },
     "execution_count": 15,
     "metadata": {},
     "output_type": "execute_result"
    }
   ],
   "source": [
    "# DistilBERT Model\n",
    "model, inputs = get_model_and_input(6)\n",
    "torchinfo.summary(model,  input_data=inputs)"
   ]
  },
  {
   "cell_type": "code",
   "execution_count": 16,
   "id": "5839259f",
   "metadata": {},
   "outputs": [
    {
     "data": {
      "text/plain": [
       "'distilbert'"
      ]
     },
     "execution_count": 16,
     "metadata": {},
     "output_type": "execute_result"
    }
   ],
   "source": [
    "model.transformer.embeddings.word_embeddings.embedding_dim\n",
    "model.transformer.config.model_type"
   ]
  },
  {
   "cell_type": "code",
   "execution_count": 17,
   "id": "198cc2a8",
   "metadata": {},
   "outputs": [
    {
     "data": {
      "text/plain": [
       "-100"
      ]
     },
     "execution_count": 17,
     "metadata": {},
     "output_type": "execute_result"
    }
   ],
   "source": [
    "model.ignore_index"
   ]
  },
  {
   "cell_type": "code",
   "execution_count": 18,
   "id": "d40d9513",
   "metadata": {},
   "outputs": [
    {
     "data": {
      "text/plain": [
       "'distilbert'"
      ]
     },
     "execution_count": 18,
     "metadata": {},
     "output_type": "execute_result"
    }
   ],
   "source": [
    "model.transformer.config.model_type"
   ]
  },
  {
   "cell_type": "code",
   "execution_count": 19,
   "id": "8a812ecc",
   "metadata": {},
   "outputs": [
    {
     "data": {
      "text/plain": [
       "int"
      ]
     },
     "execution_count": 19,
     "metadata": {},
     "output_type": "execute_result"
    }
   ],
   "source": [
    "type(model.classifier.out_features)"
   ]
  },
  {
   "cell_type": "code",
   "execution_count": null,
   "id": "abc27d31",
   "metadata": {},
   "outputs": [],
   "source": []
  }
 ],
 "metadata": {
  "kernelspec": {
   "display_name": "trojai",
   "language": "python",
   "name": "trojai"
  },
  "language_info": {
   "codemirror_mode": {
    "name": "ipython",
    "version": 3
   },
   "file_extension": ".py",
   "mimetype": "text/x-python",
   "name": "python",
   "nbconvert_exporter": "python",
   "pygments_lexer": "ipython3",
   "version": "3.9.4"
  }
 },
 "nbformat": 4,
 "nbformat_minor": 5
}
